{
 "cells": [
  {
   "cell_type": "code",
   "execution_count": 14,
   "metadata": {},
   "outputs": [],
   "source": [
    "from sklearn.datasets import load_wine"
   ]
  },
  {
   "cell_type": "code",
   "execution_count": 15,
   "metadata": {},
   "outputs": [],
   "source": [
    "wine_data = load_wine()"
   ]
  },
  {
   "cell_type": "code",
   "execution_count": 16,
   "metadata": {},
   "outputs": [
    {
     "data": {
      "text/plain": [
       "dict_keys(['data', 'target', 'target_names', 'DESCR', 'feature_names'])"
      ]
     },
     "execution_count": 16,
     "metadata": {},
     "output_type": "execute_result"
    }
   ],
   "source": [
    "wine_data.keys()"
   ]
  },
  {
   "cell_type": "code",
   "execution_count": 17,
   "metadata": {},
   "outputs": [
    {
     "name": "stdout",
     "output_type": "stream",
     "text": [
      "['alcohol', 'malic_acid', 'ash', 'alcalinity_of_ash', 'magnesium', 'total_phenols', 'flavanoids', 'nonflavanoid_phenols', 'proanthocyanins', 'color_intensity', 'hue', 'od280/od315_of_diluted_wines', 'proline']\n"
     ]
    }
   ],
   "source": [
    "print(wine_data['feature_names'])"
   ]
  },
  {
   "cell_type": "code",
   "execution_count": 18,
   "metadata": {},
   "outputs": [
    {
     "name": "stdout",
     "output_type": "stream",
     "text": [
      "Wine Data Database\n",
      "====================\n",
      "\n",
      "Notes\n",
      "-----\n",
      "Data Set Characteristics:\n",
      "    :Number of Instances: 178 (50 in each of three classes)\n",
      "    :Number of Attributes: 13 numeric, predictive attributes and the class\n",
      "    :Attribute Information:\n",
      " \t\t- 1) Alcohol\n",
      " \t\t- 2) Malic acid\n",
      " \t\t- 3) Ash\n",
      "\t\t- 4) Alcalinity of ash  \n",
      " \t\t- 5) Magnesium\n",
      "\t\t- 6) Total phenols\n",
      " \t\t- 7) Flavanoids\n",
      " \t\t- 8) Nonflavanoid phenols\n",
      " \t\t- 9) Proanthocyanins\n",
      "\t\t- 10)Color intensity\n",
      " \t\t- 11)Hue\n",
      " \t\t- 12)OD280/OD315 of diluted wines\n",
      " \t\t- 13)Proline\n",
      "        \t- class:\n",
      "                - class_0\n",
      "                - class_1\n",
      "                - class_2\n",
      "\t\t\n",
      "    :Summary Statistics:\n",
      "    \n",
      "    ============================= ==== ===== ======= =====\n",
      "                                   Min   Max   Mean     SD\n",
      "    ============================= ==== ===== ======= =====\n",
      "    Alcohol:                      11.0  14.8    13.0   0.8\n",
      "    Malic Acid:                   0.74  5.80    2.34  1.12\n",
      "    Ash:                          1.36  3.23    2.36  0.27\n",
      "    Alcalinity of Ash:            10.6  30.0    19.5   3.3\n",
      "    Magnesium:                    70.0 162.0    99.7  14.3\n",
      "    Total Phenols:                0.98  3.88    2.29  0.63\n",
      "    Flavanoids:                   0.34  5.08    2.03  1.00\n",
      "    Nonflavanoid Phenols:         0.13  0.66    0.36  0.12\n",
      "    Proanthocyanins:              0.41  3.58    1.59  0.57\n",
      "    Colour Intensity:              1.3  13.0     5.1   2.3\n",
      "    Hue:                          0.48  1.71    0.96  0.23\n",
      "    OD280/OD315 of diluted wines: 1.27  4.00    2.61  0.71\n",
      "    Proline:                       278  1680     746   315\n",
      "    ============================= ==== ===== ======= =====\n",
      "\n",
      "    :Missing Attribute Values: None\n",
      "    :Class Distribution: class_0 (59), class_1 (71), class_2 (48)\n",
      "    :Creator: R.A. Fisher\n",
      "    :Donor: Michael Marshall (MARSHALL%PLU@io.arc.nasa.gov)\n",
      "    :Date: July, 1988\n",
      "\n",
      "This is a copy of UCI ML Wine recognition datasets.\n",
      "https://archive.ics.uci.edu/ml/machine-learning-databases/wine/wine.data\n",
      "\n",
      "The data is the results of a chemical analysis of wines grown in the same\n",
      "region in Italy by three different cultivators. There are thirteen different\n",
      "measurements taken for different constituents found in the three types of\n",
      "wine.\n",
      "\n",
      "Original Owners: \n",
      "\n",
      "Forina, M. et al, PARVUS - \n",
      "An Extendible Package for Data Exploration, Classification and Correlation. \n",
      "Institute of Pharmaceutical and Food Analysis and Technologies,\n",
      "Via Brigata Salerno, 16147 Genoa, Italy.\n",
      "\n",
      "Citation:\n",
      "\n",
      "Lichman, M. (2013). UCI Machine Learning Repository\n",
      "[http://archive.ics.uci.edu/ml]. Irvine, CA: University of California,\n",
      "School of Information and Computer Science. \n",
      "\n",
      "References\n",
      "----------\n",
      "(1) \n",
      "S. Aeberhard, D. Coomans and O. de Vel, \n",
      "Comparison of Classifiers in High Dimensional Settings, \n",
      "Tech. Rep. no. 92-02, (1992), Dept. of Computer Science and Dept. of \n",
      "Mathematics and Statistics, James Cook University of North Queensland. \n",
      "(Also submitted to Technometrics). \n",
      "\n",
      "The data was used with many others for comparing various \n",
      "classifiers. The classes are separable, though only RDA \n",
      "has achieved 100% correct classification. \n",
      "(RDA : 100%, QDA 99.4%, LDA 98.9%, 1NN 96.1% (z-transformed data)) \n",
      "(All results using the leave-one-out technique) \n",
      "\n",
      "(2) \n",
      "S. Aeberhard, D. Coomans and O. de Vel, \n",
      "\"THE CLASSIFICATION PERFORMANCE OF RDA\" \n",
      "Tech. Rep. no. 92-01, (1992), Dept. of Computer Science and Dept. of \n",
      "Mathematics and Statistics, James Cook University of North Queensland. \n",
      "(Also submitted to Journal of Chemometrics). \n",
      "\n"
     ]
    }
   ],
   "source": [
    "print(wine_data['DESCR'])"
   ]
  },
  {
   "cell_type": "code",
   "execution_count": 19,
   "metadata": {},
   "outputs": [],
   "source": [
    "feat_data = wine_data['data']\n",
    "labels = wine_data['target']"
   ]
  },
  {
   "cell_type": "code",
   "execution_count": 20,
   "metadata": {},
   "outputs": [],
   "source": [
    "from sklearn.model_selection import train_test_split"
   ]
  },
  {
   "cell_type": "code",
   "execution_count": 21,
   "metadata": {},
   "outputs": [],
   "source": [
    "X_train, X_test, y_train, y_test = train_test_split(feat_data, labels, test_size=0.3, random_state=101)"
   ]
  },
  {
   "cell_type": "code",
   "execution_count": 22,
   "metadata": {},
   "outputs": [],
   "source": [
    "from sklearn.preprocessing import MinMaxScaler\n",
    "scaler = MinMaxScaler()"
   ]
  },
  {
   "cell_type": "code",
   "execution_count": 23,
   "metadata": {},
   "outputs": [],
   "source": [
    "scaled_x_train = scaler.fit_transform(X_train)"
   ]
  },
  {
   "cell_type": "code",
   "execution_count": 24,
   "metadata": {},
   "outputs": [],
   "source": [
    "scaled_x_test = scaler.transform(X_test)"
   ]
  },
  {
   "cell_type": "markdown",
   "metadata": {},
   "source": [
    "## Keras"
   ]
  },
  {
   "cell_type": "code",
   "execution_count": 25,
   "metadata": {},
   "outputs": [],
   "source": [
    "import tensorflow as tf"
   ]
  },
  {
   "cell_type": "code",
   "execution_count": 26,
   "metadata": {},
   "outputs": [],
   "source": [
    "from tensorflow.contrib.keras import models"
   ]
  },
  {
   "cell_type": "code",
   "execution_count": 27,
   "metadata": {},
   "outputs": [],
   "source": [
    "dnn_keras_model = models.Sequential()"
   ]
  },
  {
   "cell_type": "code",
   "execution_count": 28,
   "metadata": {},
   "outputs": [],
   "source": [
    "from tensorflow.contrib.keras import layers"
   ]
  },
  {
   "cell_type": "code",
   "execution_count": 29,
   "metadata": {},
   "outputs": [],
   "source": [
    "dnn_keras_model.add(layers.Dense(units=13,input_dim=13,activation='relu'))"
   ]
  },
  {
   "cell_type": "code",
   "execution_count": 30,
   "metadata": {},
   "outputs": [],
   "source": [
    "dnn_keras_model.add(layers.Dense(units=13,activation='relu'))"
   ]
  },
  {
   "cell_type": "code",
   "execution_count": 31,
   "metadata": {},
   "outputs": [],
   "source": [
    "dnn_keras_model.add(layers.Dense(units=13,activation='relu'))"
   ]
  },
  {
   "cell_type": "code",
   "execution_count": 32,
   "metadata": {},
   "outputs": [],
   "source": [
    "dnn_keras_model.add(layers.Dense(units=3,activation='softmax'))"
   ]
  },
  {
   "cell_type": "code",
   "execution_count": 33,
   "metadata": {},
   "outputs": [],
   "source": [
    "from tensorflow.contrib.keras import losses,optimizers,metrics,activations"
   ]
  },
  {
   "cell_type": "code",
   "execution_count": 34,
   "metadata": {},
   "outputs": [],
   "source": [
    "dnn_keras_model.compile(optimizer='adam',loss='sparse_categorical_crossentropy',metrics=['accuracy'])"
   ]
  },
  {
   "cell_type": "code",
   "execution_count": 35,
   "metadata": {},
   "outputs": [
    {
     "name": "stdout",
     "output_type": "stream",
     "text": [
      "Epoch 1/50\n",
      "124/124 [==============================] - 0s 4ms/step - loss: 1.0937 - acc: 0.4516\n",
      "Epoch 2/50\n",
      "124/124 [==============================] - 0s 56us/step - loss: 1.0840 - acc: 0.4677\n",
      "Epoch 3/50\n",
      "124/124 [==============================] - 0s 71us/step - loss: 1.0752 - acc: 0.5000\n",
      "Epoch 4/50\n",
      "124/124 [==============================] - 0s 73us/step - loss: 1.0666 - acc: 0.5242\n",
      "Epoch 5/50\n",
      "124/124 [==============================] - 0s 61us/step - loss: 1.0582 - acc: 0.6048\n",
      "Epoch 6/50\n",
      "124/124 [==============================] - 0s 76us/step - loss: 1.0491 - acc: 0.6452\n",
      "Epoch 7/50\n",
      "124/124 [==============================] - 0s 58us/step - loss: 1.0389 - acc: 0.7016\n",
      "Epoch 8/50\n",
      "124/124 [==============================] - 0s 65us/step - loss: 1.0274 - acc: 0.7258\n",
      "Epoch 9/50\n",
      "124/124 [==============================] - 0s 77us/step - loss: 1.0144 - acc: 0.7339\n",
      "Epoch 10/50\n",
      "124/124 [==============================] - 0s 54us/step - loss: 0.9999 - acc: 0.7500\n",
      "Epoch 11/50\n",
      "124/124 [==============================] - 0s 70us/step - loss: 0.9839 - acc: 0.7823\n",
      "Epoch 12/50\n",
      "124/124 [==============================] - 0s 49us/step - loss: 0.9653 - acc: 0.7823\n",
      "Epoch 13/50\n",
      "124/124 [==============================] - 0s 54us/step - loss: 0.9471 - acc: 0.7903\n",
      "Epoch 14/50\n",
      "124/124 [==============================] - 0s 57us/step - loss: 0.9274 - acc: 0.8065\n",
      "Epoch 15/50\n",
      "124/124 [==============================] - 0s 48us/step - loss: 0.9064 - acc: 0.7984\n",
      "Epoch 16/50\n",
      "124/124 [==============================] - 0s 50us/step - loss: 0.8846 - acc: 0.7984\n",
      "Epoch 17/50\n",
      "124/124 [==============================] - 0s 43us/step - loss: 0.8612 - acc: 0.8065\n",
      "Epoch 18/50\n",
      "124/124 [==============================] - 0s 53us/step - loss: 0.8370 - acc: 0.8226\n",
      "Epoch 19/50\n",
      "124/124 [==============================] - 0s 61us/step - loss: 0.8131 - acc: 0.8306\n",
      "Epoch 20/50\n",
      "124/124 [==============================] - 0s 56us/step - loss: 0.7865 - acc: 0.8306\n",
      "Epoch 21/50\n",
      "124/124 [==============================] - 0s 47us/step - loss: 0.7604 - acc: 0.8306\n",
      "Epoch 22/50\n",
      "124/124 [==============================] - 0s 49us/step - loss: 0.7346 - acc: 0.8306\n",
      "Epoch 23/50\n",
      "124/124 [==============================] - 0s 47us/step - loss: 0.7097 - acc: 0.8387\n",
      "Epoch 24/50\n",
      "124/124 [==============================] - 0s 46us/step - loss: 0.6836 - acc: 0.8548\n",
      "Epoch 25/50\n",
      "124/124 [==============================] - 0s 38us/step - loss: 0.6588 - acc: 0.8629\n",
      "Epoch 26/50\n",
      "124/124 [==============================] - 0s 37us/step - loss: 0.6332 - acc: 0.8629\n",
      "Epoch 27/50\n",
      "124/124 [==============================] - 0s 42us/step - loss: 0.6092 - acc: 0.8629\n",
      "Epoch 28/50\n",
      "124/124 [==============================] - 0s 64us/step - loss: 0.5842 - acc: 0.8629\n",
      "Epoch 29/50\n",
      "124/124 [==============================] - 0s 41us/step - loss: 0.5610 - acc: 0.8710\n",
      "Epoch 30/50\n",
      "124/124 [==============================] - 0s 57us/step - loss: 0.5365 - acc: 0.8710\n",
      "Epoch 31/50\n",
      "124/124 [==============================] - 0s 64us/step - loss: 0.5138 - acc: 0.8710\n",
      "Epoch 32/50\n",
      "124/124 [==============================] - 0s 48us/step - loss: 0.4924 - acc: 0.8710\n",
      "Epoch 33/50\n",
      "124/124 [==============================] - 0s 58us/step - loss: 0.4723 - acc: 0.8710\n",
      "Epoch 34/50\n",
      "124/124 [==============================] - 0s 46us/step - loss: 0.4519 - acc: 0.8790\n",
      "Epoch 35/50\n",
      "124/124 [==============================] - 0s 46us/step - loss: 0.4339 - acc: 0.8871\n",
      "Epoch 36/50\n",
      "124/124 [==============================] - 0s 46us/step - loss: 0.4169 - acc: 0.8871\n",
      "Epoch 37/50\n",
      "124/124 [==============================] - 0s 80us/step - loss: 0.3992 - acc: 0.8871\n",
      "Epoch 38/50\n",
      "124/124 [==============================] - 0s 52us/step - loss: 0.3837 - acc: 0.8952\n",
      "Epoch 39/50\n",
      "124/124 [==============================] - 0s 73us/step - loss: 0.3679 - acc: 0.8952\n",
      "Epoch 40/50\n",
      "124/124 [==============================] - 0s 54us/step - loss: 0.3525 - acc: 0.8952\n",
      "Epoch 41/50\n",
      "124/124 [==============================] - 0s 45us/step - loss: 0.3363 - acc: 0.9032\n",
      "Epoch 42/50\n",
      "124/124 [==============================] - 0s 67us/step - loss: 0.3216 - acc: 0.9194\n",
      "Epoch 43/50\n",
      "124/124 [==============================] - 0s 66us/step - loss: 0.3092 - acc: 0.9194\n",
      "Epoch 44/50\n",
      "124/124 [==============================] - 0s 59us/step - loss: 0.2974 - acc: 0.9113\n",
      "Epoch 45/50\n",
      "124/124 [==============================] - 0s 50us/step - loss: 0.2852 - acc: 0.9274\n",
      "Epoch 46/50\n",
      "124/124 [==============================] - 0s 58us/step - loss: 0.2752 - acc: 0.9274\n",
      "Epoch 47/50\n",
      "124/124 [==============================] - 0s 75us/step - loss: 0.2656 - acc: 0.9274\n",
      "Epoch 48/50\n",
      "124/124 [==============================] - 0s 66us/step - loss: 0.2559 - acc: 0.9274\n",
      "Epoch 49/50\n",
      "124/124 [==============================] - 0s 64us/step - loss: 0.2467 - acc: 0.9274\n",
      "Epoch 50/50\n",
      "124/124 [==============================] - 0s 77us/step - loss: 0.2379 - acc: 0.9355\n"
     ]
    },
    {
     "data": {
      "text/plain": [
       "<tensorflow.python.keras.callbacks.History at 0x7f752566f160>"
      ]
     },
     "execution_count": 35,
     "metadata": {},
     "output_type": "execute_result"
    }
   ],
   "source": [
    "dnn_keras_model.fit(scaled_x_train,y_train,epochs=50)"
   ]
  },
  {
   "cell_type": "code",
   "execution_count": 37,
   "metadata": {},
   "outputs": [],
   "source": [
    "predictions = dnn_keras_model.predict_classes(scaled_x_test)"
   ]
  },
  {
   "cell_type": "code",
   "execution_count": 38,
   "metadata": {},
   "outputs": [],
   "source": [
    "from sklearn.metrics import classification_report"
   ]
  },
  {
   "cell_type": "code",
   "execution_count": 39,
   "metadata": {},
   "outputs": [
    {
     "name": "stdout",
     "output_type": "stream",
     "text": [
      "             precision    recall  f1-score   support\n",
      "\n",
      "          0       0.89      0.89      0.89        19\n",
      "          1       0.86      0.90      0.88        21\n",
      "          2       1.00      0.93      0.96        14\n",
      "\n",
      "avg / total       0.91      0.91      0.91        54\n",
      "\n"
     ]
    }
   ],
   "source": [
    "print(classification_report(predictions,y_test))"
   ]
  },
  {
   "cell_type": "code",
   "execution_count": null,
   "metadata": {},
   "outputs": [],
   "source": []
  }
 ],
 "metadata": {
  "kernelspec": {
   "display_name": "Python 3",
   "language": "python",
   "name": "python3"
  },
  "language_info": {
   "codemirror_mode": {
    "name": "ipython",
    "version": 3
   },
   "file_extension": ".py",
   "mimetype": "text/x-python",
   "name": "python",
   "nbconvert_exporter": "python",
   "pygments_lexer": "ipython3",
   "version": "3.6.6"
  }
 },
 "nbformat": 4,
 "nbformat_minor": 2
}
